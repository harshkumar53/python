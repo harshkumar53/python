{
 "cells": [
  {
   "cell_type": "code",
   "execution_count": 2,
   "id": "5994bb5a",
   "metadata": {},
   "outputs": [],
   "source": [
    "poem = '''johny johony yes\n",
    "eating sugar no papa\n",
    "telling a lies no papa\n",
    "open your mouth haha'''"
   ]
  },
  {
   "cell_type": "code",
   "execution_count": null,
   "id": "f0b696c2",
   "metadata": {},
   "outputs": [],
   "source": []
  },
  {
   "cell_type": "code",
   "execution_count": null,
   "id": "c5e3010a",
   "metadata": {},
   "outputs": [],
   "source": []
  },
  {
   "cell_type": "code",
   "execution_count": null,
   "metadata": {},
   "outputs": [],
   "source": []
  }
 ],
 "metadata": {
  "kernelspec": {
   "display_name": "base",
   "language": "python",
   "name": "python3"
  },
  "language_info": {
   "codemirror_mode": {
    "name": "ipython",
    "version": 3
   },
   "file_extension": ".py",
   "mimetype": "text/x-python",
   "name": "python",
   "nbconvert_exporter": "python",
   "pygments_lexer": "ipython3",
   "version": "3.13.2"
  }
 },
 "nbformat": 4,
 "nbformat_minor": 5
}
