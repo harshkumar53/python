{
 "cells": [
  {
   "cell_type": "code",
   "execution_count": null,
   "id": "eddbc638",
   "metadata": {},
   "outputs": [
    {
     "data": {
      "text/plain": [
       "'hk'"
      ]
     },
     "execution_count": 3,
     "metadata": {},
     "output_type": "execute_result"
    }
   ],
   "source": [
    "input(\"enter your name\")\n"
   ]
  },
  {
   "cell_type": "code",
   "execution_count": 7,
   "id": "8debec27",
   "metadata": {},
   "outputs": [
    {
     "name": "stdout",
     "output_type": "stream",
     "text": [
      "odd number\n"
     ]
    }
   ],
   "source": [
    "num1 = int(input(\"enter your num\"))\n",
    "# num2 = int(input(\"enter your num\"))\n",
    "# num1 + num2ber\n",
    "\n",
    "if num1 % 2 == 0:\n",
    "    print(\"even number\")\n",
    "else:\n",
    "    print(\"odd number\")\n",
    "\n"
   ]
  },
  {
   "cell_type": "code",
   "execution_count": 9,
   "id": "13c3418f",
   "metadata": {},
   "outputs": [
    {
     "name": "stdout",
     "output_type": "stream",
     "text": [
      "your age is 25 eligible for driving\n"
     ]
    }
   ],
   "source": [
    "# wap to check a person is eligible to drive\n",
    "person = int(input(\"enter your age\"))\n",
    "\n",
    "if person >= 18:\n",
    "    print(f\"your age is {person} eligible for driving\")\n",
    "else:\n",
    "    print(\"not eligible\")\n"
   ]
  },
  {
   "cell_type": "code",
   "execution_count": null,
   "id": "51980c07",
   "metadata": {},
   "outputs": [
    {
     "name": "stdout",
     "output_type": "stream",
     "text": [
      "num is positive\n"
     ]
    }
   ],
   "source": [
    "# wap check num is positive, nagative, zero \n",
    "num = int(input(\"enter your num\"))\n",
    "\n",
    "if num > 0:\n",
    "    print(\"num is positive\")\n",
    "elif num < 0:\n",
    "    print(\"number is negative\")\n",
    "else:\n",
    "    print(\"num is zero\")\n",
    "\n"
   ]
  },
  {
   "cell_type": "code",
   "execution_count": 11,
   "id": "c52224bd",
   "metadata": {},
   "outputs": [
    {
     "name": "stdout",
     "output_type": "stream",
     "text": [
      "num2 is greater\n"
     ]
    }
   ],
   "source": [
    "# wap find the greater num\n",
    "\n",
    "num1 = int(input(\"enter your number\"))\n",
    "num2 = int(input(\"enter your number\"))\n",
    "\n",
    "\n",
    "if num1 > num2:\n",
    "    print(\"num1 is gretaer\")\n",
    "else:\n",
    "    print(\"num2 is greater\")\n"
   ]
  },
  {
   "cell_type": "code",
   "execution_count": null,
   "id": "a8732f2a",
   "metadata": {},
   "outputs": [
    {
     "name": "stdout",
     "output_type": "stream",
     "text": [
      "n3 is greater\n"
     ]
    }
   ],
   "source": [
    "#wap to check which is greater njber among in three number \n",
    "n1, n2, n3 = 12, 25, 66\n",
    "\n",
    "if n1 > n2:\n",
    "    if n1 > n3:\n",
    "        print(\"n1 is greater\")\n",
    "    else:\n",
    "        print(\"n3 is greater\")\n",
    "else:\n",
    "    if n2 > n3:\n",
    "        print(\" n2 is greateer\")\n",
    "    else:\n",
    "        print(\"n3 is greater\")\n"
   ]
  },
  {
   "cell_type": "code",
   "execution_count": null,
   "id": "01b5b4a4",
   "metadata": {},
   "outputs": [
    {
     "name": "stdout",
     "output_type": "stream",
     "text": [
      "num is divisible by 7\n"
     ]
    }
   ],
   "source": [
    "#wap to check number is divisible by 7\n",
    "num = int(input(\"enter your number\"))\n",
    "\n",
    "if num % 7 == 0:\n",
    "    print(\"num is divisible by 7\")\n",
    "else:\n",
    "    print(\"not divisible by 7\")"
   ]
  },
  {
   "cell_type": "code",
   "execution_count": null,
   "id": "cef16b59",
   "metadata": {},
   "outputs": [
    {
     "name": "stdout",
     "output_type": "stream",
     "text": [
      "num is divisible by 7 and 11\n"
     ]
    }
   ],
   "source": [
    "#wap to check number is divisible by 7 and 11\n",
    "num = int(input(\"enter your number\"))\n",
    "\n",
    "if num % 7 == 0 & num % 11 == 0 : \n",
    "    print(\"num is divisible by 7 and 11\")\n",
    "else:\n",
    "    print(\"not divisible by 7 nad 11\")"
   ]
  },
  {
   "cell_type": "code",
   "execution_count": 2,
   "id": "9771813b",
   "metadata": {},
   "outputs": [
    {
     "name": "stdout",
     "output_type": "stream",
     "text": [
      "the num is even\n"
     ]
    }
   ],
   "source": [
    "# check th enumber is odd\n",
    "num = int(input(\"enter your number\"))\n",
    "\n",
    "if num % 2 == 0:\n",
    "    print(\"the num is even\")\n",
    "else:\n",
    "    print(\"number is odd\")"
   ]
  },
  {
   "cell_type": "code",
   "execution_count": 3,
   "id": "d61775a6",
   "metadata": {},
   "outputs": [
    {
     "name": "stdout",
     "output_type": "stream",
     "text": [
      "side are not equal\n"
     ]
    }
   ],
   "source": [
    "# check two side of trangle is equal or not \n",
    "side1 = int(input(\"enter your 1 number\"))\n",
    "side2 = int(input(\"enter your 2 number\"))\n",
    "\n",
    "if side1 == side2:\n",
    "    print(\"side are equal\")\n",
    "else:\n",
    "    print(\"side are not equal\")"
   ]
  },
  {
   "cell_type": "code",
   "execution_count": null,
   "id": "b1dede1d",
   "metadata": {},
   "outputs": [
    {
     "name": "stdout",
     "output_type": "stream",
     "text": [
      "trangle is iscoceles\n"
     ]
    }
   ],
   "source": [
    "side1 = int(input(\"enter your 1 number\"))\n",
    "side2 = int(input(\"enter your 2 number\"))\n",
    "side3 = int(input(\"enter your 3 number\"))\n",
    "\n",
    "if side1 == side2 & side1 == side3:\n",
    "    print(\"trangle is equilateral\")\n",
    "else:\n",
    "    print(\"trangle is iscoceles\")\n",
    "\n"
   ]
  },
  {
   "cell_type": "code",
   "execution_count": 21,
   "id": "3d2c2930",
   "metadata": {},
   "outputs": [
    {
     "name": "stdout",
     "output_type": "stream",
     "text": [
      "a is a vowel.\n"
     ]
    }
   ],
   "source": [
    "\n",
    "letter = input(\"Enter a letter: \").lower()\n",
    "\n",
    "if letter == 'a' or letter == 'e' or letter == 'i' or letter == 'o' or letter == 'u':\n",
    "    print(f\"{letter} is a vowel.\")\n",
    "else:\n",
    "    print(f\"{letter} is not a vowel.\")\n"
   ]
  },
  {
   "cell_type": "code",
   "execution_count": 1,
   "id": "02dfddb1",
   "metadata": {},
   "outputs": [
    {
     "name": "stdout",
     "output_type": "stream",
     "text": [
      "da is:  2500.0\n",
      "hra is :  5000.0\n",
      "basics slaery is:  57500.0\n"
     ]
    }
   ],
   "source": [
    "salery = int(input(\"enter the saleery\"))\n",
    "\n",
    "da = 0.05 * salery\n",
    "hra = 0.10 * salery\n",
    "\n",
    "basics_salery = salery + da + hra \n",
    "\n",
    "print(\"da is: \", da )\n",
    "print(\"hra is : \", hra)\n",
    "print(\"basics slaery is: \", basics_salery)\n"
   ]
  },
  {
   "cell_type": "code",
   "execution_count": null,
   "id": "660df979",
   "metadata": {},
   "outputs": [],
   "source": []
  }
 ],
 "metadata": {
  "kernelspec": {
   "display_name": "base",
   "language": "python",
   "name": "python3"
  },
  "language_info": {
   "codemirror_mode": {
    "name": "ipython",
    "version": 3
   },
   "file_extension": ".py",
   "mimetype": "text/x-python",
   "name": "python",
   "nbconvert_exporter": "python",
   "pygments_lexer": "ipython3",
   "version": "3.13.2"
  }
 },
 "nbformat": 4,
 "nbformat_minor": 5
}
