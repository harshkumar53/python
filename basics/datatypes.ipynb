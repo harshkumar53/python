{
 "cells": [
  {
   "cell_type": "code",
   "execution_count": null,
   "id": "d4c4267d",
   "metadata": {},
   "outputs": [],
   "source": [
    "name = \"this is me\""
   ]
  },
  {
   "cell_type": "code",
   "execution_count": 11,
   "id": "63669f64",
   "metadata": {},
   "outputs": [
    {
     "name": "stdout",
     "output_type": "stream",
     "text": [
      "johny johony yes\n",
      "eating sugar no papa\n",
      "telling a lies no papa\n",
      "open your mouth haha\n"
     ]
    }
   ],
   "source": [
    "poem = '''johny johony yes\n",
    "eating sugar no papa\n",
    "telling a lies no papa\n",
    "open your mouth haha'''\n",
    "print(poem)"
   ]
  },
  {
   "cell_type": "code",
   "execution_count": 16,
   "id": "e8744e15",
   "metadata": {},
   "outputs": [
    {
     "name": "stdout",
     "output_type": "stream",
     "text": [
      "['mango', 'apple']\n"
     ]
    }
   ],
   "source": [
    "fruit = ['grapes','mango','apple']\n",
    "print(fruit[1:3])"
   ]
  },
  {
   "cell_type": "code",
   "execution_count": 17,
   "id": "4ce9d22a",
   "metadata": {},
   "outputs": [
    {
     "name": "stdout",
     "output_type": "stream",
     "text": [
      "{'grapes', 'mango', 'apple'}\n"
     ]
    }
   ],
   "source": [
    "fruit = {'grapes','mango','apple'}\n",
    "print(fruit)"
   ]
  },
  {
   "cell_type": "code",
   "execution_count": 1,
   "id": "c8e19cbc",
   "metadata": {},
   "outputs": [
    {
     "name": "stdout",
     "output_type": "stream",
     "text": [
      "{'brand': ['ford', 'toyata'], 'year': [1965, 1999]}\n"
     ]
    },
    {
     "data": {
      "text/plain": [
       "dict"
      ]
     },
     "execution_count": 1,
     "metadata": {},
     "output_type": "execute_result"
    }
   ],
   "source": [
    "car_info ={\n",
    "    \"brand\" : [\"ford\",\"toyata\"],\n",
    "    \"year\" : [1965,1999]\n",
    "}\n",
    "print(car_info)\n",
    "type(car_info)\n"
   ]
  },
  {
   "cell_type": "code",
   "execution_count": 5,
   "id": "768e2db8",
   "metadata": {},
   "outputs": [
    {
     "name": "stdout",
     "output_type": "stream",
     "text": [
      "1\n",
      "2\n"
     ]
    }
   ],
   "source": [
    "tuple = (\"harsh\",\"ankit\",100,False)\n",
    "\n",
    "print(tuple.count(\"ankit\"))\n",
    "print(tuple.index(100))\n",
    "\n"
   ]
  },
  {
   "cell_type": "code",
   "execution_count": null,
   "id": "f48d237b",
   "metadata": {},
   "outputs": [],
   "source": []
  }
 ],
 "metadata": {
  "kernelspec": {
   "display_name": "base",
   "language": "python",
   "name": "python3"
  },
  "language_info": {
   "codemirror_mode": {
    "name": "ipython",
    "version": 3
   },
   "file_extension": ".py",
   "mimetype": "text/x-python",
   "name": "python",
   "nbconvert_exporter": "python",
   "pygments_lexer": "ipython3",
   "version": "3.13.2"
  }
 },
 "nbformat": 4,
 "nbformat_minor": 5
}
