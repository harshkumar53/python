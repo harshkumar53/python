{
 "cells": [
  {
   "cell_type": "code",
   "execution_count": 10,
   "id": "bcaa834a",
   "metadata": {},
   "outputs": [],
   "source": [
    "import math"
   ]
  },
  {
   "cell_type": "code",
   "execution_count": 18,
   "id": "df729430",
   "metadata": {},
   "outputs": [
    {
     "name": "stdout",
     "output_type": "stream",
     "text": [
      "5.0\n",
      "40320\n",
      "0.8414709848078965\n",
      "1.3862943611198906\n",
      "3.141592653589793\n"
     ]
    }
   ],
   "source": [
    "print(math.sqrt(25))\n",
    "print(math.factorial(8))\n",
    "print(math.sin(1))\n",
    "print(math.log(4))\n",
    "print(math.pi)"
   ]
  },
  {
   "cell_type": "code",
   "execution_count": 22,
   "id": "6698f4dd",
   "metadata": {},
   "outputs": [],
   "source": [
    "from random import random, randint, shuffle, choice"
   ]
  },
  {
   "cell_type": "code",
   "execution_count": 27,
   "id": "88b2eed3",
   "metadata": {},
   "outputs": [
    {
     "name": "stdout",
     "output_type": "stream",
     "text": [
      "random number between 0 to 1:  0.9292987451525477\n",
      "random number between 0 to 100:  14\n",
      "select random element from list:  4\n",
      "shuffle names list:  ['john', 'alice', 'alina']\n"
     ]
    }
   ],
   "source": [
    "print(\"random number between 0 to 1: \", random())\n",
    "print(\"random number between 0 to 100: \", randint(1,100))\n",
    "print(\"select random element from list: \", choice([1,3,4,5,6,7,8,9,10]))\n",
    "names = [\"john\", \"alice\", \"alina\"]\n",
    "shuffle(names)\n",
    "print(\"shuffle names list: \", names)"
   ]
  },
  {
   "cell_type": "code",
   "execution_count": 28,
   "id": "e8112f4a",
   "metadata": {},
   "outputs": [],
   "source": [
    "from datetime import datetime as dt"
   ]
  },
  {
   "cell_type": "code",
   "execution_count": 49,
   "id": "c94e1691",
   "metadata": {},
   "outputs": [
    {
     "name": "stdout",
     "output_type": "stream",
     "text": [
      "current date and time:  2025-07-03 10:52:01.639148\n",
      "today date is:  2025-07-03\n",
      "current time is:  10:52:01.639911\n",
      "current year is:  2025\n",
      "current month is:  7\n",
      "current day is:  3\n",
      "current weekday is:  3\n"
     ]
    }
   ],
   "source": [
    "print(\"current date and time: \", dt.now())\n",
    "print(\"today date is: \", dt.now().date())\n",
    "print(\"current time is: \", dt.now().time())\n",
    "print(\"current year is: \", dt.now().year)\n",
    "print(\"current month is: \", dt.now().month)\n",
    "print(\"current day is: \", dt.now().day)\n",
    "print(\"current weekday is: \", dt.now().weekday())"
   ]
  },
  {
   "cell_type": "code",
   "execution_count": 50,
   "id": "4041ba59",
   "metadata": {},
   "outputs": [
    {
     "name": "stdout",
     "output_type": "stream",
     "text": [
      "03 / 07 / 25\n"
     ]
    }
   ],
   "source": [
    "date = dt.strftime(dt.now(), \"%d / %m / %y\")\n",
    "print(date)"
   ]
  },
  {
   "cell_type": "code",
   "execution_count": 53,
   "id": "ca0d90c5",
   "metadata": {},
   "outputs": [
    {
     "name": "stdout",
     "output_type": "stream",
     "text": [
      "10 : 58 : 03\n"
     ]
    }
   ],
   "source": [
    "time = dt.strftime(dt.now(), \"%H : %M : %S\")\n",
    "print(time)"
   ]
  },
  {
   "cell_type": "code",
   "execution_count": null,
   "id": "f888a8df",
   "metadata": {},
   "outputs": [],
   "source": []
  }
 ],
 "metadata": {
  "kernelspec": {
   "display_name": "base",
   "language": "python",
   "name": "python3"
  },
  "language_info": {
   "codemirror_mode": {
    "name": "ipython",
    "version": 3
   },
   "file_extension": ".py",
   "mimetype": "text/x-python",
   "name": "python",
   "nbconvert_exporter": "python",
   "pygments_lexer": "ipython3",
   "version": "3.13.2"
  }
 },
 "nbformat": 4,
 "nbformat_minor": 5
}
