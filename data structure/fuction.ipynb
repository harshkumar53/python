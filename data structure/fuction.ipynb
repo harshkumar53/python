{
 "cells": [
  {
   "cell_type": "code",
   "execution_count": 10,
   "id": "7d3e0f1b",
   "metadata": {},
   "outputs": [],
   "source": [
    "def msg():\n",
    "    print(\"hey, whatsup\")"
   ]
  },
  {
   "cell_type": "code",
   "execution_count": 11,
   "id": "37109f00",
   "metadata": {},
   "outputs": [
    {
     "name": "stdout",
     "output_type": "stream",
     "text": [
      "hey, whatsup\n"
     ]
    }
   ],
   "source": [
    "msg()"
   ]
  },
  {
   "cell_type": "code",
   "execution_count": 12,
   "id": "4e235068",
   "metadata": {},
   "outputs": [
    {
     "name": "stdout",
     "output_type": "stream",
     "text": [
      "12.6\n"
     ]
    }
   ],
   "source": [
    "def avg(a,b,c,d,e):\n",
    "    print(a+b+c+d+e/5)\n",
    "\n",
    "avg(4,5,2,1,3)"
   ]
  },
  {
   "cell_type": "code",
   "execution_count": 13,
   "id": "fcdd1d7e",
   "metadata": {},
   "outputs": [
    {
     "name": "stdout",
     "output_type": "stream",
     "text": [
      "number is odd\n"
     ]
    }
   ],
   "source": [
    "def evenodd(a):\n",
    "    a = int(input(\"enter the num\"))\n",
    "    if a % 2 == 0:\n",
    "        print(\"number is even\")\n",
    "    else:\n",
    "        print(\"number is odd\")\n",
    "\n",
    "evenodd(5)"
   ]
  },
  {
   "cell_type": "code",
   "execution_count": 14,
   "id": "1991d43f",
   "metadata": {},
   "outputs": [
    {
     "name": "stdout",
     "output_type": "stream",
     "text": [
      "20\n"
     ]
    }
   ],
   "source": [
    "# non return function\n",
    "def multiply(a,b):\n",
    "    print(a*b)\n",
    "\n",
    "multiply(4,5)"
   ]
  },
  {
   "cell_type": "code",
   "execution_count": 16,
   "id": "a86e42e0",
   "metadata": {},
   "outputs": [
    {
     "name": "stdout",
     "output_type": "stream",
     "text": [
      "1.25\n"
     ]
    }
   ],
   "source": [
    "# return function \n",
    "def divide(num1, num2):\n",
    "    return num1/num2\n",
    "\n",
    "result = divide(5,4)\n",
    "print(result)"
   ]
  },
  {
   "cell_type": "code",
   "execution_count": null,
   "id": "05df5e63",
   "metadata": {},
   "outputs": [
    {
     "name": "stdout",
     "output_type": "stream",
     "text": [
      "i am from usa\n",
      "i am from india\n"
     ]
    }
   ],
   "source": [
    "# default parameterized \n",
    "def my_country(name = \"india\"):\n",
    "    return f\"i am from {name}\"\n",
    "\n",
    "print(my_country(\"usa\"))\n",
    "print(my_country())# twking default value "
   ]
  },
  {
   "cell_type": "code",
   "execution_count": null,
   "id": "10611c25",
   "metadata": {},
   "outputs": [],
   "source": [
    "# check num is prime or not \n",
    "# convert temprature celecius to faranite \n",
    "# find maximum of three number\n",
    "# calculate the factorial \n",
    "# reverse a string\n",
    "# count a vowel in string \n",
    "# calaculate body mass intensity"
   ]
  },
  {
   "cell_type": "code",
   "execution_count": 4,
   "id": "2f5a5c1a",
   "metadata": {},
   "outputs": [],
   "source": [
    "# lamda fucction for even numder\n",
    "\n",
    "even = lambda x : \"Even\" if x % 2 == 0 else \"odd\"\n",
    "\n"
   ]
  },
  {
   "cell_type": "code",
   "execution_count": 6,
   "id": "a7db35e7",
   "metadata": {},
   "outputs": [
    {
     "name": "stdout",
     "output_type": "stream",
     "text": [
      "odd\n"
     ]
    }
   ],
   "source": [
    "print(even(3))"
   ]
  },
  {
   "cell_type": "code",
   "execution_count": 7,
   "id": "853681b7",
   "metadata": {},
   "outputs": [
    {
     "name": "stdout",
     "output_type": "stream",
     "text": [
      "25\n"
     ]
    }
   ],
   "source": [
    "sq = lambda x : x**2\n",
    "print(sq(5))"
   ]
  },
  {
   "cell_type": "code",
   "execution_count": 15,
   "id": "634f65d2",
   "metadata": {},
   "outputs": [
    {
     "name": "stdout",
     "output_type": "stream",
     "text": [
      "equal\n"
     ]
    }
   ],
   "source": [
    "equ = lambda a,b,c : \"equal\" if a == b == c else \"not equal\"\n",
    "print(equ(2,2,2))\n"
   ]
  },
  {
   "cell_type": "code",
   "execution_count": null,
   "id": "5ac7a780",
   "metadata": {},
   "outputs": [],
   "source": []
  }
 ],
 "metadata": {
  "kernelspec": {
   "display_name": "base",
   "language": "python",
   "name": "python3"
  },
  "language_info": {
   "codemirror_mode": {
    "name": "ipython",
    "version": 3
   },
   "file_extension": ".py",
   "mimetype": "text/x-python",
   "name": "python",
   "nbconvert_exporter": "python",
   "pygments_lexer": "ipython3",
   "version": "3.13.2"
  }
 },
 "nbformat": 4,
 "nbformat_minor": 5
}
