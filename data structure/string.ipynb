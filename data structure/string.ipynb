{
 "cells": [
  {
   "cell_type": "code",
   "execution_count": 2,
   "id": "8c9ee4f3",
   "metadata": {},
   "outputs": [
    {
     "name": "stdout",
     "output_type": "stream",
     "text": [
      "hey this  is me harsh"
     ]
    }
   ],
   "source": [
    "string = \"hey this  is me harsh\"\n",
    "for i in string:\n",
    "    print(i, end = \"\")"
   ]
  },
  {
   "cell_type": "code",
   "execution_count": 3,
   "id": "24418788",
   "metadata": {},
   "outputs": [
    {
     "name": "stdout",
     "output_type": "stream",
     "text": [
      "e\n",
      " this\n"
     ]
    }
   ],
   "source": [
    "string = \"hey this is me harsh\"\n",
    "print(string[1])\n",
    "print(string[3:8])\n"
   ]
  },
  {
   "cell_type": "code",
   "execution_count": 4,
   "id": "238345e3",
   "metadata": {},
   "outputs": [
    {
     "name": "stdout",
     "output_type": "stream",
     "text": [
      "1\n",
      "1\n"
     ]
    }
   ],
   "source": [
    "for i in string:\n",
    "    if i == \"e\":\n",
    "        print(string.index(\"e\"))"
   ]
  },
  {
   "cell_type": "code",
   "execution_count": 5,
   "id": "fd7ea58d",
   "metadata": {},
   "outputs": [
    {
     "name": "stdout",
     "output_type": "stream",
     "text": [
      "good morning\n"
     ]
    }
   ],
   "source": [
    "str1 = \"good\"\n",
    "str2 = \"morning\"\n",
    "str3 = str1 + \" \" + str2\n",
    "\n",
    "print(str3)"
   ]
  },
  {
   "cell_type": "code",
   "execution_count": 6,
   "id": "12e9bb12",
   "metadata": {},
   "outputs": [
    {
     "name": "stdout",
     "output_type": "stream",
     "text": [
      "Hey This Is Me Harsh\n",
      "['hey', 'this', 'is', 'me', 'harsh']\n",
      "4\n",
      "True\n",
      "False\n"
     ]
    }
   ],
   "source": [
    "print(string.title())\n",
    "print(string.split())\n",
    "print(string.find(\"this\"))\n",
    "print(string.startswith(\"hey\"))\n",
    "print(string.isspace())"
   ]
  },
  {
   "cell_type": "code",
   "execution_count": 7,
   "id": "d3f24953",
   "metadata": {},
   "outputs": [
    {
     "data": {
      "text/plain": [
       "True"
      ]
     },
     "execution_count": 7,
     "metadata": {},
     "output_type": "execute_result"
    }
   ],
   "source": [
    "\"hey\" in string"
   ]
  },
  {
   "cell_type": "code",
   "execution_count": 8,
   "id": "d113db99",
   "metadata": {},
   "outputs": [
    {
     "name": "stdout",
     "output_type": "stream",
     "text": [
      "is me hars\n",
      "hey this is me harshhey this is me harsh\n"
     ]
    }
   ],
   "source": [
    "# slicing\n",
    "print(string[-11:-1])\n",
    "print(string * 2)"
   ]
  },
  {
   "cell_type": "code",
   "execution_count": null,
   "id": "6bc5a056",
   "metadata": {},
   "outputs": [],
   "source": []
  }
 ],
 "metadata": {
  "kernelspec": {
   "display_name": "base",
   "language": "python",
   "name": "python3"
  },
  "language_info": {
   "codemirror_mode": {
    "name": "ipython",
    "version": 3
   },
   "file_extension": ".py",
   "mimetype": "text/x-python",
   "name": "python",
   "nbconvert_exporter": "python",
   "pygments_lexer": "ipython3",
   "version": "3.13.2"
  }
 },
 "nbformat": 4,
 "nbformat_minor": 5
}
