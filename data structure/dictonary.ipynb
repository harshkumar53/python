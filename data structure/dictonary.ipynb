{
 "cells": [
  {
   "cell_type": "code",
   "execution_count": 54,
   "id": "decea1ff",
   "metadata": {},
   "outputs": [
    {
     "name": "stdout",
     "output_type": "stream",
     "text": [
      "{'name': 'harsh', 'age': 22, 'class': '12th', 'gender': 'male'}\n"
     ]
    }
   ],
   "source": [
    "student = {\n",
    "    \"name\" : \"harsh\",\n",
    "    \"age\" : 22,\n",
    "    \"class\" : \"12th\",\n",
    "    \"gender\" : \"male\"\n",
    "}\n",
    "\n",
    "print(student)"
   ]
  },
  {
   "cell_type": "code",
   "execution_count": 55,
   "id": "0da8c6f5",
   "metadata": {},
   "outputs": [
    {
     "name": "stdout",
     "output_type": "stream",
     "text": [
      "{'lucknow': [12, 45, 35], 'delhi': [24, 42, 33], 'mumbai': [36, 48, 37]}\n"
     ]
    }
   ],
   "source": [
    "temp = {\n",
    "    \"lucknow\" : [12,45, 35],\n",
    "    \"delhi\" : [24,42,33],\n",
    "    \"mumbai\" : [36,48,37]\n",
    "}\n",
    "print(temp)"
   ]
  },
  {
   "cell_type": "code",
   "execution_count": 56,
   "id": "8bbef4f3",
   "metadata": {},
   "outputs": [
    {
     "data": {
      "text/plain": [
       "dict"
      ]
     },
     "execution_count": 56,
     "metadata": {},
     "output_type": "execute_result"
    }
   ],
   "source": [
    "info = dict(name = \"john doe\", age = 25, classs = \"12th\")\n",
    "type(info)"
   ]
  },
  {
   "cell_type": "code",
   "execution_count": 57,
   "id": "68497c5d",
   "metadata": {},
   "outputs": [
    {
     "name": "stdout",
     "output_type": "stream",
     "text": [
      "harsh\n",
      "12th\n"
     ]
    }
   ],
   "source": [
    "# how to acces value throung key\n",
    "\n",
    "print(student[\"name\"])\n",
    "print(student.get(\"class\"))"
   ]
  },
  {
   "cell_type": "code",
   "execution_count": 58,
   "id": "8a05baca",
   "metadata": {},
   "outputs": [
    {
     "name": "stdout",
     "output_type": "stream",
     "text": [
      "{'name': 'harsh', 'age': 22, 'class': '12th', 'gender': 'male', 'city': 'lucknow'}\n"
     ]
    }
   ],
   "source": [
    "# add key value pair\n",
    "student[\"city\"] = \"lucknow\"\n",
    "print(student)"
   ]
  },
  {
   "cell_type": "code",
   "execution_count": 59,
   "id": "b8898253",
   "metadata": {},
   "outputs": [
    {
     "name": "stdout",
     "output_type": "stream",
     "text": [
      "{'name': ('anurag', 'ankit', 'akash', 'abhinav', 'rohit', 'raj', 'ayush'), 'age': 22, 'class': '12th', 'gender': 'male', 'city': 'lucknow'}\n"
     ]
    }
   ],
   "source": [
    "student[\"name\"] = \"anurag\",\"ankit\", \"akash\", \"abhinav\", \"rohit\", \"raj\", \"ayush\"\n",
    "print(student)"
   ]
  },
  {
   "cell_type": "code",
   "execution_count": 60,
   "id": "363e7b53",
   "metadata": {},
   "outputs": [],
   "source": [
    "del student[\"gender\"]"
   ]
  },
  {
   "cell_type": "code",
   "execution_count": 61,
   "id": "8217cb24",
   "metadata": {},
   "outputs": [
    {
     "name": "stdout",
     "output_type": "stream",
     "text": [
      "{'name': ('anurag', 'ankit', 'akash', 'abhinav', 'rohit', 'raj', 'ayush'), 'age': 22, 'class': '12th', 'city': 'lucknow'}\n"
     ]
    }
   ],
   "source": [
    "print(student)"
   ]
  },
  {
   "cell_type": "code",
   "execution_count": 63,
   "id": "ab95610d",
   "metadata": {},
   "outputs": [],
   "source": [
    "student = {\n",
    "    \"name\" : \"harsh\",\n",
    "    \"age\" : 22,\n",
    "    \"class\" : \"12th\",\n",
    "    \"gender\" : \"male\"\n",
    "}\n",
    "\n"
   ]
  },
  {
   "cell_type": "code",
   "execution_count": 68,
   "id": "840d5539",
   "metadata": {},
   "outputs": [
    {
     "name": "stdout",
     "output_type": "stream",
     "text": [
      "dict_values(['harsh', 22, '12th', 'male'])\n",
      "dict_keys(['name', 'age', 'class', 'gender'])\n",
      "dict_items([('name', 'harsh'), ('age', 22), ('class', '12th'), ('gender', 'male')])\n"
     ]
    }
   ],
   "source": [
    "print(student.values())\n",
    "print(student.keys())\n",
    "print(student.items())"
   ]
  },
  {
   "cell_type": "code",
   "execution_count": 69,
   "id": "c97e3a06",
   "metadata": {},
   "outputs": [
    {
     "name": "stdout",
     "output_type": "stream",
     "text": [
      "name\n",
      "age\n",
      "class\n",
      "gender\n"
     ]
    }
   ],
   "source": [
    "for k in student:\n",
    "    print(k)"
   ]
  },
  {
   "cell_type": "code",
   "execution_count": 76,
   "id": "351a5f5d",
   "metadata": {},
   "outputs": [
    {
     "name": "stdout",
     "output_type": "stream",
     "text": [
      "name : harsh\n",
      "age : 22\n",
      "class : 12th\n",
      "gender : male\n"
     ]
    }
   ],
   "source": [
    "for k,v in student.items():\n",
    "    print(f\"{k} : {v}\")"
   ]
  },
  {
   "cell_type": "code",
   "execution_count": 78,
   "id": "78f08cc3",
   "metadata": {},
   "outputs": [
    {
     "name": "stdout",
     "output_type": "stream",
     "text": [
      "{'emp01': {'name': 'ashu', 'age': 55, 'deparment': 'HR'}, 'emp02': {'name': 'rati', 'age': 45, 'deparment': 'emp'}, 'emp03': {'name': 'Rohit', 'age': 65, 'deparment': 'IT'}}\n"
     ]
    }
   ],
   "source": [
    "company = {\n",
    "    \"emp01\" : {\"name\" : \"ashu\" , \"age\" : 55, \"deparment\" : \"HR\"},\n",
    "    \"emp02\" : {\"name\" : \"rati\" , \"age\" : 45, \"deparment\" : \"emp\"},\n",
    "    \"emp03\" : {\"name\" : \"Rohit\" , \"age\" : 65, \"deparment\" : \"IT\"}\n",
    "}\n",
    "print(company)"
   ]
  },
  {
   "cell_type": "code",
   "execution_count": 79,
   "id": "cb20bff7",
   "metadata": {},
   "outputs": [],
   "source": [
    "from pprint import pprint"
   ]
  },
  {
   "cell_type": "code",
   "execution_count": 80,
   "id": "766ddc3e",
   "metadata": {},
   "outputs": [
    {
     "name": "stdout",
     "output_type": "stream",
     "text": [
      "{'emp01': {'age': 55, 'deparment': 'HR', 'name': 'ashu'},\n",
      " 'emp02': {'age': 45, 'deparment': 'emp', 'name': 'rati'},\n",
      " 'emp03': {'age': 65, 'deparment': 'IT', 'name': 'Rohit'}}\n"
     ]
    }
   ],
   "source": [
    "pprint(company)"
   ]
  },
  {
   "cell_type": "code",
   "execution_count": 84,
   "id": "e227acc9",
   "metadata": {},
   "outputs": [
    {
     "data": {
      "text/plain": [
       "'emp'"
      ]
     },
     "execution_count": 84,
     "metadata": {},
     "output_type": "execute_result"
    }
   ],
   "source": [
    "company[\"emp02\"][\"deparment\"]"
   ]
  },
  {
   "cell_type": "code",
   "execution_count": null,
   "id": "d863a14f",
   "metadata": {},
   "outputs": [],
   "source": [
    "# calculate the average temperature of lko "
   ]
  }
 ],
 "metadata": {
  "kernelspec": {
   "display_name": "base",
   "language": "python",
   "name": "python3"
  },
  "language_info": {
   "codemirror_mode": {
    "name": "ipython",
    "version": 3
   },
   "file_extension": ".py",
   "mimetype": "text/x-python",
   "name": "python",
   "nbconvert_exporter": "python",
   "pygments_lexer": "ipython3",
   "version": "3.13.2"
  }
 },
 "nbformat": 4,
 "nbformat_minor": 5
}
