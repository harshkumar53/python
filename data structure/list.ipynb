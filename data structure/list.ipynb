{
 "cells": [
  {
   "cell_type": "code",
   "execution_count": 4,
   "id": "dd44eccb",
   "metadata": {},
   "outputs": [
    {
     "name": "stdout",
     "output_type": "stream",
     "text": [
      "['swiggy', 'whatsapp', 'facebook', 'intagram', 'twitter', 'linkdin', 'pubg', 'chorme', 'google', 'snapchat']\n"
     ]
    }
   ],
   "source": [
    "list = [\"swiggy\",\"whatsapp\",\"facebook\",\"intagram\",\"twitter\",\"linkdin\",\"pubg\",\"chorme\",\"google\",\"snapchat\",]\n",
    "print(list)"
   ]
  },
  {
   "cell_type": "code",
   "execution_count": 5,
   "id": "a5abf2ad",
   "metadata": {},
   "outputs": [
    {
     "name": "stdout",
     "output_type": "stream",
     "text": [
      "swiggy whatsapp facebook intagram twitter linkdin pubg chorme google snapchat "
     ]
    }
   ],
   "source": [
    "for i in list:\n",
    "    print(i, end = \" \")"
   ]
  },
  {
   "cell_type": "code",
   "execution_count": 6,
   "id": "24a4ca83",
   "metadata": {},
   "outputs": [
    {
     "name": "stdout",
     "output_type": "stream",
     "text": [
      "linkdin\n",
      "linkdin\n",
      "2\n"
     ]
    }
   ],
   "source": [
    "# indexing \n",
    "print(list[5])\n",
    "# negative indexing \n",
    "print(list[-5])\n",
    "\n",
    "print(list.index(\"facebook\"))"
   ]
  },
  {
   "cell_type": "code",
   "execution_count": 7,
   "id": "d988c87d",
   "metadata": {},
   "outputs": [
    {
     "name": "stdout",
     "output_type": "stream",
     "text": [
      "['whatsapp', 'facebook', 'intagram', 'twitter', 'linkdin']\n",
      "['twitter', 'linkdin', 'pubg', 'chorme', 'google', 'snapchat']\n"
     ]
    }
   ],
   "source": [
    "# slicing \n",
    "\n",
    "print(list[1:6])\n",
    "print(list[-6:])"
   ]
  },
  {
   "cell_type": "markdown",
   "id": "0b3b42a2",
   "metadata": {},
   "source": [
    "\n",
    "append()                    - Adds an item `x` to the end of the list                              \n",
    "extend()                   - Adds all elements of an iterable (e.g. another list) to the end      \n",
    "insert()                    -Inserts item `x` at position `i`                                     \n",
    "remove()                    -Removes the first occurrence of item                             \n",
    "pop([i])                     -Removes and returns item at position `i` (defaults to the last item) \n",
    "clear()                      -Removes all items from the list                                      \n",
    "index()                      -Returns the index of the first occurrence of item `x`                \n",
    "count()                      -Returns the number of times `x` appears in the list                  \n",
    "sort(key=None, reverse=False) -Sorts the list in ascending order (can be customized)                reverse()                     -Reverses the order of the list in place                              \n",
    "copy()                        -Returns a shallow copy of the list                                   \n",
    "''"
   ]
  },
  {
   "cell_type": "code",
   "execution_count": 8,
   "id": "e50dbc53",
   "metadata": {},
   "outputs": [
    {
     "name": "stdout",
     "output_type": "stream",
     "text": [
      "['swiggy', 'whatsapp', 'facebook', 'intagram', 'twitter', 'linkdin', 'pubg', 'chorme', 'google', 'snapchat', 'youtube']\n"
     ]
    }
   ],
   "source": [
    "list.append(\"youtube\")\n",
    "print(list)"
   ]
  },
  {
   "cell_type": "code",
   "execution_count": 9,
   "id": "79d8a2e5",
   "metadata": {},
   "outputs": [
    {
     "name": "stdout",
     "output_type": "stream",
     "text": [
      "['swiggy', 'whatsapp', 'netflix', 'facebook', 'intagram', 'twitter', 'linkdin', 'pubg', 'chorme', 'google', 'snapchat', 'youtube']\n"
     ]
    }
   ],
   "source": [
    "list.insert(2, \"netflix\")\n",
    "print(list)"
   ]
  },
  {
   "cell_type": "code",
   "execution_count": 10,
   "id": "06d8b66a",
   "metadata": {},
   "outputs": [
    {
     "name": "stdout",
     "output_type": "stream",
     "text": [
      "['swiggy', 'whatsapp', 'netflix', 'facebook', 'intagram', 'twitter', 'linkdin', 'chorme', 'google', 'snapchat', 'youtube']\n"
     ]
    }
   ],
   "source": [
    "list.pop(7)\n",
    "print(list)"
   ]
  },
  {
   "cell_type": "code",
   "execution_count": 11,
   "id": "72dd5c77",
   "metadata": {},
   "outputs": [
    {
     "name": "stdout",
     "output_type": "stream",
     "text": [
      "['swiggy', 'whatsapp', 'netflix', 'intagram', 'twitter', 'linkdin', 'chorme', 'google', 'snapchat', 'youtube']\n"
     ]
    }
   ],
   "source": [
    "list.remove(\"facebook\")\n",
    "print(list)"
   ]
  },
  {
   "cell_type": "code",
   "execution_count": 12,
   "id": "883917e1",
   "metadata": {},
   "outputs": [
    {
     "name": "stdout",
     "output_type": "stream",
     "text": [
      "['youtube', 'snapchat', 'google', 'chorme', 'linkdin', 'twitter', 'intagram', 'netflix', 'whatsapp', 'swiggy']\n"
     ]
    }
   ],
   "source": [
    "list.reverse()\n",
    "print(list)"
   ]
  },
  {
   "cell_type": "code",
   "execution_count": 13,
   "id": "54edcd3f",
   "metadata": {},
   "outputs": [
    {
     "name": "stdout",
     "output_type": "stream",
     "text": [
      "['chorme', 'google', 'intagram', 'linkdin', 'netflix', 'snapchat', 'swiggy', 'twitter', 'whatsapp', 'youtube']\n"
     ]
    }
   ],
   "source": [
    "list.sort()\n",
    "print(list)"
   ]
  },
  {
   "cell_type": "code",
   "execution_count": 14,
   "id": "229c3cc8",
   "metadata": {},
   "outputs": [
    {
     "data": {
      "text/plain": [
       "1"
      ]
     },
     "execution_count": 14,
     "metadata": {},
     "output_type": "execute_result"
    }
   ],
   "source": [
    "list.count(\"youtube\")\n"
   ]
  },
  {
   "cell_type": "code",
   "execution_count": 15,
   "id": "f05a36ee",
   "metadata": {},
   "outputs": [
    {
     "name": "stdout",
     "output_type": "stream",
     "text": [
      "['chorme', 'google', 'intagram', 'linkdin', 'netflix', 'snapchat', 'swiggy', 'twitter', 'whatsapp', 'youtube']\n"
     ]
    }
   ],
   "source": [
    "list_copy = list.copy()\n",
    "print(list_copy)"
   ]
  },
  {
   "cell_type": "code",
   "execution_count": 16,
   "id": "19dda338",
   "metadata": {},
   "outputs": [
    {
     "name": "stdout",
     "output_type": "stream",
     "text": [
      "['chorme', 'google', 'intagram', 'linkdin', 'netflix', 'snapchat', 'swiggy', 'twitter', 'whatsapp', 'youtube', 'hotstar', 'prime viddeo']\n"
     ]
    }
   ],
   "source": [
    "list2 = [\"hotstar\",\"prime viddeo\"]\n",
    "list.extend(list2)\n",
    "print(list)"
   ]
  },
  {
   "cell_type": "code",
   "execution_count": null,
   "id": "c7d434c8",
   "metadata": {},
   "outputs": [],
   "source": []
  }
 ],
 "metadata": {
  "kernelspec": {
   "display_name": "base",
   "language": "python",
   "name": "python3"
  },
  "language_info": {
   "codemirror_mode": {
    "name": "ipython",
    "version": 3
   },
   "file_extension": ".py",
   "mimetype": "text/x-python",
   "name": "python",
   "nbconvert_exporter": "python",
   "pygments_lexer": "ipython3",
   "version": "3.13.2"
  }
 },
 "nbformat": 4,
 "nbformat_minor": 5
}
