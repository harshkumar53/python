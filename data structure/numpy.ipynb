{
 "cells": [
  {
   "cell_type": "code",
   "execution_count": 11,
   "id": "4a9edd95",
   "metadata": {},
   "outputs": [],
   "source": [
    "import numpy as np"
   ]
  },
  {
   "cell_type": "code",
   "execution_count": 12,
   "id": "08ec3fca",
   "metadata": {},
   "outputs": [],
   "source": [
    "a = np.array([1,2,3,4,5,6])\n",
    "b = np.array([7,8,9,10,11,12])\n"
   ]
  },
  {
   "cell_type": "code",
   "execution_count": 13,
   "id": "fdd79b27",
   "metadata": {},
   "outputs": [
    {
     "name": "stdout",
     "output_type": "stream",
     "text": [
      "[ 8 10 12 14 16 18]\n"
     ]
    }
   ],
   "source": [
    "print(a+b)"
   ]
  },
  {
   "cell_type": "code",
   "execution_count": 14,
   "id": "bd06428c",
   "metadata": {},
   "outputs": [
    {
     "name": "stdout",
     "output_type": "stream",
     "text": [
      "[[[1 2]\n",
      "  [3 4]]\n",
      "\n",
      " [[4 5]\n",
      "  [5 6]]]\n"
     ]
    }
   ],
   "source": [
    "# creating 3D array\n",
    "\n",
    "a3 = np.array([[[1,2],[3,4]],[[4,5],[5,6]]])\n",
    "print(a3)"
   ]
  },
  {
   "cell_type": "code",
   "execution_count": 18,
   "id": "6206869c",
   "metadata": {},
   "outputs": [
    {
     "data": {
      "text/plain": [
       "array([[ 8,  9, 16],\n",
       "       [ 5, 14, 14]], dtype=int32)"
      ]
     },
     "execution_count": 18,
     "metadata": {},
     "output_type": "execute_result"
    }
   ],
   "source": [
    "# random array \n",
    "np.random.randint(1,25, size=(2,3))"
   ]
  },
  {
   "cell_type": "code",
   "execution_count": 19,
   "id": "38793ee0",
   "metadata": {},
   "outputs": [
    {
     "name": "stdout",
     "output_type": "stream",
     "text": [
      "[[1 2 5]\n",
      " [1 8 9]\n",
      " [4 8 6]]\n",
      "[[5 5 8]\n",
      " [4 6 9]\n",
      " [7 9 3]]\n"
     ]
    }
   ],
   "source": [
    "a = np.array([[1,2,5],\n",
    "             [1,8,9],\n",
    "             [4,8,6]])\n",
    "\n",
    "b = np.array([[5,5,8],\n",
    "              [4,6,9],\n",
    "              [7,9,3]])\n",
    "\n",
    "print(a)\n",
    "print(b)"
   ]
  },
  {
   "cell_type": "code",
   "execution_count": null,
   "id": "c6e0f24e",
   "metadata": {},
   "outputs": [
    {
     "name": "stdout",
     "output_type": "stream",
     "text": [
      "[[ 48  62  41]\n",
      " [100 134 107]\n",
      " [ 94 122 122]]\n"
     ]
    },
    {
     "data": {
      "text/plain": [
       "array([[ 48,  62,  41],\n",
       "       [100, 134, 107],\n",
       "       [ 94, 122, 122]])"
      ]
     },
     "execution_count": 21,
     "metadata": {},
     "output_type": "execute_result"
    }
   ],
   "source": [
    "# muliplication inverse matrix\n",
    "print(a@b)\n",
    "np.dot(a,b)"
   ]
  },
  {
   "cell_type": "code",
   "execution_count": 22,
   "id": "563f2ef8",
   "metadata": {},
   "outputs": [
    {
     "data": {
      "text/plain": [
       "np.int64(138240)"
      ]
     },
     "execution_count": 22,
     "metadata": {},
     "output_type": "execute_result"
    }
   ],
   "source": [
    "a.prod() # prroduct of all elements in matrix or array"
   ]
  },
  {
   "cell_type": "code",
   "execution_count": 23,
   "id": "0fbe7495",
   "metadata": {},
   "outputs": [
    {
     "data": {
      "text/plain": [
       "np.float64(6.222222222222222)"
      ]
     },
     "execution_count": 23,
     "metadata": {},
     "output_type": "execute_result"
    }
   ],
   "source": [
    "b.mean()"
   ]
  },
  {
   "cell_type": "code",
   "execution_count": 24,
   "id": "83e17364",
   "metadata": {},
   "outputs": [
    {
     "data": {
      "text/plain": [
       "array([2.        , 6.        , 6.66666667])"
      ]
     },
     "execution_count": 24,
     "metadata": {},
     "output_type": "execute_result"
    }
   ],
   "source": [
    "a.mean(axis=0)"
   ]
  },
  {
   "cell_type": "code",
   "execution_count": 25,
   "id": "c0ad9657",
   "metadata": {},
   "outputs": [
    {
     "name": "stdout",
     "output_type": "stream",
     "text": [
      "44\n",
      "2.9228769862146455\n",
      "8.543209876543209\n"
     ]
    }
   ],
   "source": [
    "print(a.sum())\n",
    "print(a.std())\n",
    "print(a.var())"
   ]
  },
  {
   "cell_type": "code",
   "execution_count": null,
   "id": "12193f48",
   "metadata": {},
   "outputs": [
    {
     "name": "stdout",
     "output_type": "stream",
     "text": [
      "4.25\n",
      "5.5\n",
      "7.5\n"
     ]
    }
   ],
   "source": [
    "a = np.array([4,5,6,8,4,9])\n",
    "\n",
    "print(np.percentile(a,25)) # 1st quartile\n",
    "print(np.percentile(a,50)) # median \n",
    "print(np.percentile(a,75)) # 3rd quartile"
   ]
  },
  {
   "cell_type": "code",
   "execution_count": 28,
   "id": "da4760d6",
   "metadata": {},
   "outputs": [
    {
     "name": "stdout",
     "output_type": "stream",
     "text": [
      "[[82 73 63 40]\n",
      " [34 92 40 56]\n",
      " [54 32 79 45]\n",
      " [59 71 88 76]]\n"
     ]
    }
   ],
   "source": [
    "c = np.random.randint(11,100, size=(4,4))\n",
    "print(c)"
   ]
  },
  {
   "cell_type": "code",
   "execution_count": 30,
   "id": "295dcb2d",
   "metadata": {},
   "outputs": [
    {
     "name": "stdout",
     "output_type": "stream",
     "text": [
      "[[82 73 63 40 34 92 40 56]\n",
      " [54 32 79 45 59 71 88 76]]\n",
      "[[82 73]\n",
      " [63 40]\n",
      " [34 92]\n",
      " [40 56]\n",
      " [54 32]\n",
      " [79 45]\n",
      " [59 71]\n",
      " [88 76]]\n"
     ]
    }
   ],
   "source": [
    "print(c.reshape(2,8)) # reshaping into \"2X8\"\n",
    "print(c.reshape(8,2))"
   ]
  },
  {
   "cell_type": "code",
   "execution_count": 32,
   "id": "ecadef45",
   "metadata": {},
   "outputs": [
    {
     "data": {
      "text/plain": [
       "array([[14, 20, 21, 32],\n",
       "       [11, 38,  2, 32],\n",
       "       [39, 22, 14, 23],\n",
       "       [22, 17, 11, 12]], dtype=int32)"
      ]
     },
     "execution_count": 32,
     "metadata": {},
     "output_type": "execute_result"
    }
   ],
   "source": [
    "arr = np.random.randint(1,40, (4,4))\n",
    "arr"
   ]
  },
  {
   "cell_type": "code",
   "execution_count": null,
   "id": "1fca10b1",
   "metadata": {},
   "outputs": [
    {
     "name": "stdout",
     "output_type": "stream",
     "text": [
      "[14 20 21 32]\n",
      "20\n",
      "[22 17 11 12]\n",
      "[[14 20 21 32]\n",
      " [11 38  2 32]\n",
      " [39 22 14 23]]\n"
     ]
    }
   ],
   "source": [
    "print(arr[0]) # print first row\n",
    "print(arr[0,1]) # print frist row's 1 elements\n",
    "print(arr[-1]) # print last row\n"
   ]
  },
  {
   "cell_type": "code",
   "execution_count": 40,
   "id": "2f7e0bd8",
   "metadata": {},
   "outputs": [
    {
     "name": "stdout",
     "output_type": "stream",
     "text": [
      "[[14 20 21 32]\n",
      " [11 38  2 32]\n",
      " [39 22 14 23]]\n",
      "[[11 38  2 32]\n",
      " [39 22 14 23]\n",
      " [22 17 11 12]]\n"
     ]
    }
   ],
   "source": [
    "print(arr[:3]) # slicing in matrix \n",
    "print(arr[1:])"
   ]
  },
  {
   "cell_type": "code",
   "execution_count": null,
   "id": "637a3868",
   "metadata": {},
   "outputs": [],
   "source": []
  }
 ],
 "metadata": {
  "kernelspec": {
   "display_name": "base",
   "language": "python",
   "name": "python3"
  },
  "language_info": {
   "codemirror_mode": {
    "name": "ipython",
    "version": 3
   },
   "file_extension": ".py",
   "mimetype": "text/x-python",
   "name": "python",
   "nbconvert_exporter": "python",
   "pygments_lexer": "ipython3",
   "version": "3.13.2"
  }
 },
 "nbformat": 4,
 "nbformat_minor": 5
}
