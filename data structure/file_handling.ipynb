{
 "cells": [
  {
   "cell_type": "code",
   "execution_count": null,
   "id": "cc8cc756",
   "metadata": {},
   "outputs": [],
   "source": [
    "import os"
   ]
  },
  {
   "cell_type": "code",
   "execution_count": 2,
   "id": "57e107a3",
   "metadata": {},
   "outputs": [
    {
     "name": "stdout",
     "output_type": "stream",
     "text": [
      "curren eoerking directory:  c:\\Users\\dell\\OneDrive\\Desktop\\python\\data structure\n"
     ]
    }
   ],
   "source": [
    "print(\"curren eoerking directory: \", os.getcwd())"
   ]
  },
  {
   "cell_type": "code",
   "execution_count": 3,
   "id": "def7644d",
   "metadata": {},
   "outputs": [
    {
     "name": "stdout",
     "output_type": "stream",
     "text": [
      "currently working on which file:  ['dictonary.ipynb', 'file_handling.ipynb', 'fuction.ipynb', 'libraries.ipynb', 'list.ipynb', 'pratice.ipynb', 'sets.ipynb', 'string.ipynb']\n"
     ]
    }
   ],
   "source": [
    "print(\"currently working on which file: \", os.listdir())"
   ]
  },
  {
   "cell_type": "code",
   "execution_count": 5,
   "id": "c1f789e8",
   "metadata": {},
   "outputs": [
    {
     "name": "stdout",
     "output_type": "stream",
     "text": [
      "files:  ['111.pdf', '112.pdf', '456.jpg', 'application ssc gd.pdf', 'Bio.pdf', 'hbsaxbh.jpg', 'nidhi pet.pdf', 'pp2.jpg', 'Untitled-1.pdf', 'Uttar Pradesh Police123.pdf', 'View Application Form n.pdf', 'View Application Form.pdf']\n",
      "number of files in specified directory: 12\n"
     ]
    }
   ],
   "source": [
    "files = os.listdir(r\"C:\\Users\\dell\\OneDrive\\Desktop\\nidhi\")\n",
    "print(\"files: \",files)\n",
    "print(\"number of files in specified directory:\",len(files))"
   ]
  },
  {
   "cell_type": "code",
   "execution_count": 7,
   "id": "37919e7c",
   "metadata": {},
   "outputs": [
    {
     "name": "stdout",
     "output_type": "stream",
     "text": [
      "=> C:\\Users\\dell\\OneDrive\\Desktop\\nidhi\n",
      "📁 []\n",
      "files --> ['111.pdf', '112.pdf', '456.jpg', 'application ssc gd.pdf', 'Bio.pdf', 'hbsaxbh.jpg', 'nidhi pet.pdf', 'pp2.jpg', 'Untitled-1.pdf', 'Uttar Pradesh Police123.pdf', 'View Application Form n.pdf', 'View Application Form.pdf']\n"
     ]
    }
   ],
   "source": [
    "total_files = 0\n",
    "for path, folder,files in os.walk(r\"C:\\Users\\dell\\OneDrive\\Desktop\\nidhi\"):\n",
    "    print(\"=>\", path)\n",
    "    print(\"📁\", folder)\n",
    "    print(\"files -->\", files)\n"
   ]
  },
  {
   "cell_type": "code",
   "execution_count": 10,
   "id": "bd1aa6f0",
   "metadata": {},
   "outputs": [
    {
     "name": "stdout",
     "output_type": "stream",
     "text": [
      "file exist\n"
     ]
    }
   ],
   "source": [
    "files = r\"C:\\Users\\dell\\OneDrive\\Desktop\\python\\data structure\\fuction.ipynb\"\n",
    "if os.path.exists(files):\n",
    "    print(\"file exist\")\n",
    "else:\n",
    "    print(\"not exist\")\n"
   ]
  },
  {
   "cell_type": "code",
   "execution_count": null,
   "id": "f585b16f",
   "metadata": {},
   "outputs": [],
   "source": []
  }
 ],
 "metadata": {
  "kernelspec": {
   "display_name": "base",
   "language": "python",
   "name": "python3"
  },
  "language_info": {
   "codemirror_mode": {
    "name": "ipython",
    "version": 3
   },
   "file_extension": ".py",
   "mimetype": "text/x-python",
   "name": "python",
   "nbconvert_exporter": "python",
   "pygments_lexer": "ipython3",
   "version": "3.13.2"
  }
 },
 "nbformat": 4,
 "nbformat_minor": 5
}
