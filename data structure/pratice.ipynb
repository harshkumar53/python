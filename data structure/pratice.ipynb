{
 "cells": [
  {
   "cell_type": "code",
   "execution_count": 41,
   "id": "32aec6ff",
   "metadata": {},
   "outputs": [
    {
     "name": "stdout",
     "output_type": "stream",
     "text": [
      "['grapes', 'apple', 'chery']\n"
     ]
    }
   ],
   "source": [
    "# create a list of 3 fruits and print\n",
    "\n",
    "fruit = [\"grapes\",\"apple\",\"chery\" ]\n",
    "\n",
    "print(fruit)"
   ]
  },
  {
   "cell_type": "code",
   "execution_count": null,
   "id": "7253074e",
   "metadata": {},
   "outputs": [
    {
     "name": "stdout",
     "output_type": "stream",
     "text": [
      "['orange', 'red', 'yellow', 'purple']\n"
     ]
    }
   ],
   "source": [
    "# add a color in the given list \n",
    "\n",
    "color = [\"orange\", \"red\", \"yellow\"]\n",
    "\n",
    "color.append(\"purple\")\n",
    "print(color)"
   ]
  },
  {
   "cell_type": "code",
   "execution_count": null,
   "id": "f2fa061a",
   "metadata": {},
   "outputs": [
    {
     "name": "stdout",
     "output_type": "stream",
     "text": [
      "12 17\n"
     ]
    }
   ],
   "source": [
    "# print the first and last digit of list \n",
    "\n",
    "number = [12,25,45,36,17]\n",
    "\n",
    "print(number[0],number[4])"
   ]
  },
  {
   "cell_type": "code",
   "execution_count": null,
   "id": "136f538f",
   "metadata": {},
   "outputs": [
    {
     "name": "stdout",
     "output_type": "stream",
     "text": [
      "['dog', 'tiger', 'lion']\n"
     ]
    }
   ],
   "source": [
    "# remove the one name in the list\n",
    "\n",
    "animals = [\"dog\", \"cat\",\"tiger\",\"lion\"]\n",
    "\n",
    "animals.remove(\"cat\")\n",
    "print(animals)"
   ]
  },
  {
   "cell_type": "code",
   "execution_count": null,
   "id": "798ec67b",
   "metadata": {},
   "outputs": [
    {
     "name": "stdout",
     "output_type": "stream",
     "text": [
      "[12, 44, 45, 52, 65, 98]\n"
     ]
    }
   ],
   "source": [
    "# sort he list \n",
    "\n",
    "num = [12,52,44,65,98,45]\n",
    " \n",
    "num.sort()\n",
    "print(num)"
   ]
  },
  {
   "cell_type": "code",
   "execution_count": null,
   "id": "920e6de0",
   "metadata": {},
   "outputs": [
    {
     "name": "stdout",
     "output_type": "stream",
     "text": [
      "['lko', 'delhi', 'pune', 'gao']\n"
     ]
    }
   ],
   "source": [
    "# count the  city name \n",
    "\n",
    "city = [\"lko\",\"delhi\",\"pune\",\"gao\"]\n",
    "\n",
    "city.count(\"lko\")\n",
    "print(city)"
   ]
  },
  {
   "cell_type": "code",
   "execution_count": null,
   "id": "489d8afd",
   "metadata": {},
   "outputs": [
    {
     "name": "stdout",
     "output_type": "stream",
     "text": [
      "hey\n"
     ]
    }
   ],
   "source": [
    "# check the bob in the list and print the msg\n",
    "\n",
    "check = [\"arun\", \"bob\", \"devil\"]\n",
    "\n",
    "if \"bob\" in check:\n",
    "    print(\"hey\")"
   ]
  },
  {
   "cell_type": "code",
   "execution_count": null,
   "id": "ae41c31d",
   "metadata": {},
   "outputs": [
    {
     "name": "stdout",
     "output_type": "stream",
     "text": [
      "lotus\n",
      "rose\n",
      "tulip\n",
      "lavender\n"
     ]
    }
   ],
   "source": [
    "# print the lsit using for loop \n",
    "\n",
    "flower = [\"lotus\", \"rose\", \"tulip\", \"lavender\"]\n",
    "\n",
    "for i in flower:\n",
    "    print(i)"
   ]
  },
  {
   "cell_type": "code",
   "execution_count": null,
   "id": "30522526",
   "metadata": {},
   "outputs": [
    {
     "name": "stdout",
     "output_type": "stream",
     "text": [
      "the sum of list is: 168\n"
     ]
    }
   ],
   "source": [
    "# print the sum of list \n",
    "\n",
    "no = [25,45,65,32,1]\n",
    "\n",
    "total = sum(no)\n",
    "print(f\"the sum of list is: {total}\" )"
   ]
  },
  {
   "cell_type": "code",
   "execution_count": null,
   "id": "25686419",
   "metadata": {},
   "outputs": [
    {
     "name": "stdout",
     "output_type": "stream",
     "text": [
      "['a', 'b', 'c', 'd']\n"
     ]
    }
   ],
   "source": [
    "# print the 4 alphabet using slicing \n",
    "\n",
    "alpha = [\"a\",\"b\",\"c\",\"d\",\"e\",\"f\",\"g\",\"h\"]\n",
    "\n",
    "print(alpha[0:4])"
   ]
  },
  {
   "cell_type": "code",
   "execution_count": null,
   "id": "2907ba1b",
   "metadata": {},
   "outputs": [],
   "source": []
  }
 ],
 "metadata": {
  "kernelspec": {
   "display_name": "base",
   "language": "python",
   "name": "python3"
  },
  "language_info": {
   "codemirror_mode": {
    "name": "ipython",
    "version": 3
   },
   "file_extension": ".py",
   "mimetype": "text/x-python",
   "name": "python",
   "nbconvert_exporter": "python",
   "pygments_lexer": "ipython3",
   "version": "3.13.2"
  }
 },
 "nbformat": 4,
 "nbformat_minor": 5
}
