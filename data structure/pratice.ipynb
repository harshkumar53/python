{
 "cells": [
  {
   "cell_type": "code",
   "execution_count": 41,
   "id": "32aec6ff",
   "metadata": {},
   "outputs": [
    {
     "name": "stdout",
     "output_type": "stream",
     "text": [
      "['grapes', 'apple', 'chery']\n"
     ]
    }
   ],
   "source": [
    "# create a list of 3 fruits and print\n",
    "\n",
    "fruit = [\"grapes\",\"apple\",\"chery\" ]\n",
    "\n",
    "print(fruit)"
   ]
  },
  {
   "cell_type": "code",
   "execution_count": null,
   "id": "7253074e",
   "metadata": {},
   "outputs": [
    {
     "name": "stdout",
     "output_type": "stream",
     "text": [
      "['orange', 'red', 'yellow', 'purple']\n"
     ]
    }
   ],
   "source": [
    "# add a color in the given list \n",
    "\n",
    "color = [\"orange\", \"red\", \"yellow\"]\n",
    "\n",
    "color.append(\"purple\")\n",
    "print(color)"
   ]
  },
  {
   "cell_type": "code",
   "execution_count": null,
   "id": "f2fa061a",
   "metadata": {},
   "outputs": [
    {
     "name": "stdout",
     "output_type": "stream",
     "text": [
      "12 17\n"
     ]
    }
   ],
   "source": [
    "# print the first and last digit of list \n",
    "\n",
    "number = [12,25,45,36,17]\n",
    "\n",
    "print(number[0],number[4])"
   ]
  },
  {
   "cell_type": "code",
   "execution_count": null,
   "id": "136f538f",
   "metadata": {},
   "outputs": [
    {
     "name": "stdout",
     "output_type": "stream",
     "text": [
      "['dog', 'tiger', 'lion']\n"
     ]
    }
   ],
   "source": [
    "# remove the one name in the list\n",
    "\n",
    "animals = [\"dog\", \"cat\",\"tiger\",\"lion\"]\n",
    "\n",
    "animals.remove(\"cat\")\n",
    "print(animals)"
   ]
  },
  {
   "cell_type": "code",
   "execution_count": null,
   "id": "798ec67b",
   "metadata": {},
   "outputs": [
    {
     "name": "stdout",
     "output_type": "stream",
     "text": [
      "[12, 44, 45, 52, 65, 98]\n"
     ]
    }
   ],
   "source": [
    "# sort he list \n",
    "\n",
    "num = [12,52,44,65,98,45]\n",
    " \n",
    "num.sort()\n",
    "print(num)"
   ]
  },
  {
   "cell_type": "code",
   "execution_count": null,
   "id": "920e6de0",
   "metadata": {},
   "outputs": [
    {
     "name": "stdout",
     "output_type": "stream",
     "text": [
      "['lko', 'delhi', 'pune', 'gao']\n"
     ]
    }
   ],
   "source": [
    "# count the  city name \n",
    "\n",
    "city = [\"lko\",\"delhi\",\"pune\",\"gao\"]\n",
    "\n",
    "city.count(\"lko\")\n",
    "print(city)"
   ]
  },
  {
   "cell_type": "code",
   "execution_count": null,
   "id": "489d8afd",
   "metadata": {},
   "outputs": [
    {
     "name": "stdout",
     "output_type": "stream",
     "text": [
      "hey\n"
     ]
    }
   ],
   "source": [
    "# check the bob in the list and print the msg\n",
    "\n",
    "check = [\"arun\", \"bob\", \"devil\"]\n",
    "\n",
    "if \"bob\" in check:\n",
    "    print(\"hey\")"
   ]
  },
  {
   "cell_type": "code",
   "execution_count": null,
   "id": "ae41c31d",
   "metadata": {},
   "outputs": [
    {
     "name": "stdout",
     "output_type": "stream",
     "text": [
      "lotus\n",
      "rose\n",
      "tulip\n",
      "lavender\n"
     ]
    }
   ],
   "source": [
    "# print the lsit using for loop \n",
    "\n",
    "flower = [\"lotus\", \"rose\", \"tulip\", \"lavender\"]\n",
    "\n",
    "for i in flower:\n",
    "    print(i)"
   ]
  },
  {
   "cell_type": "code",
   "execution_count": null,
   "id": "30522526",
   "metadata": {},
   "outputs": [
    {
     "name": "stdout",
     "output_type": "stream",
     "text": [
      "the sum of list is: 168\n"
     ]
    }
   ],
   "source": [
    "# print the sum of list \n",
    "\n",
    "no = [25,45,65,32,1]\n",
    "\n",
    "total = sum(no)\n",
    "print(f\"the sum of list is: {total}\" )"
   ]
  },
  {
   "cell_type": "code",
   "execution_count": null,
   "id": "25686419",
   "metadata": {},
   "outputs": [
    {
     "name": "stdout",
     "output_type": "stream",
     "text": [
      "['a', 'b', 'c', 'd']\n"
     ]
    }
   ],
   "source": [
    "# print the 4 alphabet using slicing \n",
    "\n",
    "alpha = [\"a\",\"b\",\"c\",\"d\",\"e\",\"f\",\"g\",\"h\"]\n",
    "\n",
    "print(alpha[0:4])"
   ]
  },
  {
   "cell_type": "code",
   "execution_count": 1,
   "id": "2907ba1b",
   "metadata": {},
   "outputs": [
    {
     "name": "stdout",
     "output_type": "stream",
     "text": [
      "after convert:  37.77777777777778\n"
     ]
    }
   ],
   "source": [
    "# convert temprature celecius to faranite \n",
    "def temprature(temp):\n",
    "    result = (temp - 32) * 5/9\n",
    "    return result\n",
    "\n",
    "temp = 100\n",
    "print(f\"after convert: \", temprature(temp))"
   ]
  },
  {
   "cell_type": "code",
   "execution_count": 2,
   "id": "36ce3776",
   "metadata": {},
   "outputs": [
    {
     "name": "stdout",
     "output_type": "stream",
     "text": [
      "b is greater\n",
      "None\n"
     ]
    }
   ],
   "source": [
    "# find maximum of three number\n",
    "\n",
    "def maximum(a,b,c):\n",
    "    if a > b and a > c:\n",
    "        print(\"a is greater\")\n",
    "    elif b > c and b > a:\n",
    "        print(\"b is greater\")\n",
    "    else:\n",
    "        print(\"c is greater\")\n",
    "\n",
    "a = int(input(\"enter the number\"))\n",
    "b = int(input(\"enter the number\"))\n",
    "c = int(input(\"enter the number\"))\n",
    "\n",
    "print(maximum(a,b,c))\n"
   ]
  },
  {
   "cell_type": "code",
   "execution_count": null,
   "id": "744d9b96",
   "metadata": {},
   "outputs": [],
   "source": [
    "# check num is prime or not \n"
   ]
  },
  {
   "cell_type": "code",
   "execution_count": 6,
   "id": "fc3aa206",
   "metadata": {},
   "outputs": [
    {
     "name": "stdout",
     "output_type": "stream",
     "text": [
      "factorial of number is : 24\n"
     ]
    }
   ],
   "source": [
    "\n",
    "# calculate the factorial \n",
    "\n",
    "def factorial(n):\n",
    "    if n == 1 or n==0:\n",
    "        return 1\n",
    "    return n * factorial(n - 1)\n",
    "\n",
    "n = int(input(\"enter the number\"))\n",
    "print(f\"factorial of number is : {factorial(n)}\")"
   ]
  },
  {
   "cell_type": "code",
   "execution_count": 7,
   "id": "ebf4f911",
   "metadata": {},
   "outputs": [
    {
     "name": "stdout",
     "output_type": "stream",
     "text": [
      "reversed: hsrah\n"
     ]
    }
   ],
   "source": [
    "# reverse a string\n",
    "def reverse(s):\n",
    "    return s[::-1]\n",
    "\n",
    "name = input(\"enter the name\")\n",
    "print(f\"reversed: {reverse(name)}\")\n"
   ]
  },
  {
   "cell_type": "code",
   "execution_count": 13,
   "id": "adb6a0a5",
   "metadata": {},
   "outputs": [
    {
     "name": "stdout",
     "output_type": "stream",
     "text": [
      "1\n"
     ]
    }
   ],
   "source": [
    "# count a vowel in string \n",
    "\n",
    "def vowel(word):\n",
    "    for i in word:\n",
    "        if i == 'a' or i == 'e' or i == 'i' or i == 'o' or i == 'u':\n",
    "            return word.count(i)\n",
    "        \n",
    "word = input(\"enter the word\")\n",
    "print(f\"{vowel(word)}\")\n"
   ]
  },
  {
   "cell_type": "code",
   "execution_count": 14,
   "id": "b5e816b7",
   "metadata": {},
   "outputs": [
    {
     "name": "stdout",
     "output_type": "stream",
     "text": [
      "your bmi is: 11.25\n"
     ]
    }
   ],
   "source": [
    "\n",
    "# calaculate body mass intensity\n",
    "\n",
    "def bmii(weight, height):\n",
    "    bmi = weight / (height)**2\n",
    "    return bmi\n",
    "\n",
    "weight = 45\n",
    "height = 2\n",
    "print(f\"your bmi is: {bmii(weight, height)}\")"
   ]
  },
  {
   "cell_type": "code",
   "execution_count": null,
   "id": "13e357a0",
   "metadata": {},
   "outputs": [],
   "source": []
  },
  {
   "cell_type": "code",
   "execution_count": null,
   "id": "c8cc6e52",
   "metadata": {},
   "outputs": [],
   "source": []
  }
 ],
 "metadata": {
  "kernelspec": {
   "display_name": "base",
   "language": "python",
   "name": "python3"
  },
  "language_info": {
   "codemirror_mode": {
    "name": "ipython",
    "version": 3
   },
   "file_extension": ".py",
   "mimetype": "text/x-python",
   "name": "python",
   "nbconvert_exporter": "python",
   "pygments_lexer": "ipython3",
   "version": "3.13.2"
  }
 },
 "nbformat": 4,
 "nbformat_minor": 5
}
